{
 "cells": [
  {
   "cell_type": "markdown",
   "id": "20affa30",
   "metadata": {},
   "source": [
    "# Recitation 1\n",
    "### 30.Sep.22\n",
    "#### Mariana Martínez Aguilar\n",
    "\n",
    "The objective of today's recitation is to explore PGD and different step sizes $\\alpha$. "
   ]
  },
  {
   "cell_type": "markdown",
   "id": "0665c61f",
   "metadata": {},
   "source": [
    "### Rosenbrock function\n",
    "In mathematical optimization, the Rosenbrock function is a non-convex function, introduced by Howard H. Rosenbrock in 1960, which is used as a performance test problem for optimization algorithms. It is also known as Rosenbrock's valley or Rosenbrock's banana function.\n",
    "\n",
    "The global minimum is inside a long, narrow, parabolic shaped flat valley. To find the valley is trivial. To converge to the global minimum, however, is difficult.\n",
    "\n",
    "The function originally has two parameters, $a$ and $b$ but in this case we will set $a = 1.5$ and $b = 0.25$. We know that the global optimum is found in $(a, a^2)$. The function in our case is:\n",
    "\n",
    "$$ f(x, y) = (a - x)^2 + b(y - x^2)^2 = (1.5 - x)^2 + 0.25(y - x^2)^2. $$  \n",
    "\n",
    "Plot the levels sets on this function on the square [-10,10] x [-10, 10]. Then for the square [-2.5, 2.5] x [-2.5, 2.5], plot this function in 3D, also plot its levels sets (this is a plot in 2D). For the contours plot the point $(a, a^2)$ as well. Use this colormap 'cet_linear_bgy_10_95_c74_r' ."
   ]
  },
  {
   "cell_type": "code",
   "execution_count": 1,
   "id": "939ee8db",
   "metadata": {},
   "outputs": [],
   "source": [
    "# First thing to do is to import numpy, matplotlib and colorcet"
   ]
  },
  {
   "cell_type": "markdown",
   "id": "9f97eeff",
   "metadata": {},
   "source": [
    "By just looking at these plots, what do you think is going to be the problem when trying to compute the gradient near the optimal point?"
   ]
  },
  {
   "cell_type": "markdown",
   "id": "6a134cc5",
   "metadata": {},
   "source": [
    "### The optimization problem\n",
    "\n",
    "Now that we know how this function looks like we can define the following constraint optimization problem:\n",
    "\n",
    "$$ \\text{min  } f(x,y) = (1.5 - x)^2 + 0.25(y - x^2)^2 \\\\ \\text{such that  } x^2 + y^2 \\leq 1. $$  \n",
    "\n",
    "Plot the Rosenbrock function and the feasible set. Use the color map 'cet_linear_wcmr_100_45_c42'. What can you tell about the optimum and such region?"
   ]
  },
  {
   "cell_type": "code",
   "execution_count": 2,
   "id": "5fce8a51",
   "metadata": {},
   "outputs": [],
   "source": [
    "# We have two options, just plot the contours and then add a \n",
    "# circle or just plot the contours for those x, y, that are\n",
    "# in the feasible set"
   ]
  },
  {
   "cell_type": "markdown",
   "id": "81aa203f",
   "metadata": {},
   "source": [
    "Compute the gradient of this function given x, y. What's the dimension of this gradient? Plot the negative gradient on the point $x_{\\text{test}} = \\left( \\frac{\\sqrt(2)}{2}, \\frac{\\sqrt(2)}{2}\\right) $. What can you tell from this if we compute gradient descent starting at $x_{\\text{test}}$?"
   ]
  },
  {
   "cell_type": "markdown",
   "id": "fea88620",
   "metadata": {},
   "source": [
    "Program the PGD method with backtracking. What is the projection on this domain?"
   ]
  },
  {
   "cell_type": "code",
   "execution_count": null,
   "id": "a8b6b131",
   "metadata": {},
   "outputs": [],
   "source": []
  },
  {
   "cell_type": "markdown",
   "id": "2edf4a15",
   "metadata": {},
   "source": [
    "Test your PGD function and plot the trajectory starting from 0.1, 0.1"
   ]
  },
  {
   "cell_type": "code",
   "execution_count": 4,
   "id": "e46cd450",
   "metadata": {},
   "outputs": [],
   "source": [
    "# Starting from 0.1 0.1"
   ]
  },
  {
   "cell_type": "markdown",
   "id": "d8f733e1",
   "metadata": {},
   "source": [
    "Test your PGD function and plot the trajectory starting from -0.5, -0.8"
   ]
  },
  {
   "cell_type": "code",
   "execution_count": 5,
   "id": "77b380dd",
   "metadata": {},
   "outputs": [],
   "source": [
    "# Starting from -0.5 -0.8"
   ]
  },
  {
   "cell_type": "markdown",
   "id": "fdd1828d",
   "metadata": {},
   "source": [
    "Test your PGD function and plot the trajectory starting from $\\sqrt(2)/2, \\sqrt(2)/2$."
   ]
  },
  {
   "cell_type": "code",
   "execution_count": 6,
   "id": "2e15b8af",
   "metadata": {},
   "outputs": [],
   "source": [
    "# Starting from sqrt(2)/2 sqrt(2)/2"
   ]
  },
  {
   "cell_type": "markdown",
   "id": "34bb8fe4",
   "metadata": {},
   "source": [
    "Notice the number of iterations required for each starting point. Why does this happen?"
   ]
  },
  {
   "cell_type": "code",
   "execution_count": null,
   "id": "9f22636d",
   "metadata": {},
   "outputs": [],
   "source": []
  }
 ],
 "metadata": {
  "kernelspec": {
   "display_name": "Python 3 (ipykernel)",
   "language": "python",
   "name": "python3"
  },
  "language_info": {
   "codemirror_mode": {
    "name": "ipython",
    "version": 3
   },
   "file_extension": ".py",
   "mimetype": "text/x-python",
   "name": "python",
   "nbconvert_exporter": "python",
   "pygments_lexer": "ipython3",
   "version": "3.10.5"
  }
 },
 "nbformat": 4,
 "nbformat_minor": 5
}
