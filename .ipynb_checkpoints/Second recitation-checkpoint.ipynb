{
 "cells": [
  {
   "cell_type": "markdown",
   "id": "7639ef2c",
   "metadata": {},
   "source": [
    "# Recitation 2\n",
    "### 23.Sep.22\n",
    "#### Mariana Martínez Aguilar\n",
    "\n",
    "The objective of today's recitation is to explore how to build a solver for a nonlinear least squares problem using Gauss Newton."
   ]
  },
  {
   "cell_type": "markdown",
   "id": "1e14aa14",
   "metadata": {},
   "source": [
    "## Nonlinear least squares problem\n",
    "\n",
    "Suppose someone gives us the Michaelis–Menten model for enzyme kinetics:\n",
    "\n",
    "$$ y = f(x, a, b) = \\frac{ax}{b + x}. $$\n",
    "\n",
    "In this model $x$ is the input and we want to estimate the parameters $a$ and $b$ given certain N observations $y$.\n",
    "\n",
    "### Inspection the model\n",
    "#### a) Plot the true solution \n",
    "In this case we know the values of the optimal $a$ and $b$ but right now we want to explore how this function looks. Generate a plot of the function with $0 \\leq x \\leq 100$ and the optimal parameters."
   ]
  },
  {
   "cell_type": "code",
   "execution_count": null,
   "id": "606a19f2",
   "metadata": {},
   "outputs": [],
   "source": [
    "import matplotlib.pyplot as plt\n",
    "import numpy as np\n",
    "\n",
    "# We need to define the function\n",
    "\n",
    "def kin(x, a, b):\n",
    "    '''\n",
    "    \n",
    "    '''\n"
   ]
  },
  {
   "cell_type": "markdown",
   "id": "b700608c",
   "metadata": {},
   "source": [
    "Let $c = (a, b)^\\top$ be the vector of parameters and recall Gauss Newton:\n",
    "$$ c_{n+1} = c_n + \\left( Df(c_n)^\\top Df(c_n) \\right)^{-1}Df(c_n)^\\top \\left( y - f(c_n) \\right) $$\n",
    "\n",
    "With $N$ number of observations $y$, what is the correct size of the $Df(c_n)$ matrix? Then, what is the correct size of this matrix $\\left( Df(c_n)^\\top Df(c_n) \\right)^{-1}$?  \n",
    "\n",
    "Let N = 100 as before, program Gauss-Newton method to fit the true observations (the ones we found in the line above).\n",
    "\n",
    "What are the \"ingredients\" we need for Gauss-Newton?\n",
    "   - Jacobian matrix Df(c_n)\n",
    "   - Initial point, in our case is a point $c_0 = (a_0, b_0)^\\top$\n",
    "   - Some points x (of size N) and some observations y (of size N as well)"
   ]
  },
  {
   "cell_type": "code",
   "execution_count": 1,
   "id": "eb48cef4",
   "metadata": {},
   "outputs": [],
   "source": [
    "# We need to compute the Jacobian matrix Df(cn). First compute this by hand\n",
    "# and then define a function that implements this on Python\n",
    "\n"
   ]
  },
  {
   "cell_type": "markdown",
   "id": "9f1b7103",
   "metadata": {},
   "source": [
    "Compute a plot on the reduction of the residuals at each iteration. Change the tolerance to $10^{-15}$."
   ]
  },
  {
   "cell_type": "code",
   "execution_count": 2,
   "id": "e7f4d8c4",
   "metadata": {},
   "outputs": [],
   "source": [
    "# We can change the Gauss-Newton method so that we get a vector of the norm of the residuals\n",
    "\n"
   ]
  },
  {
   "cell_type": "markdown",
   "id": "eceda03a",
   "metadata": {},
   "source": [
    "Notice that it is difficult to see the decrease in the last iterations. Change the y axis to a logarithmic scale."
   ]
  },
  {
   "cell_type": "code",
   "execution_count": null,
   "id": "5740656d",
   "metadata": {},
   "outputs": [],
   "source": []
  },
  {
   "cell_type": "markdown",
   "id": "a7f21d40",
   "metadata": {},
   "source": [
    "Change the initial parameters. What happens when the initial parameters are too far away from the exact ones?"
   ]
  },
  {
   "cell_type": "code",
   "execution_count": 3,
   "id": "d3f650d9",
   "metadata": {},
   "outputs": [],
   "source": [
    "# Try the following initial points, see what happens\n"
   ]
  },
  {
   "cell_type": "code",
   "execution_count": null,
   "id": "2d6fd7c5",
   "metadata": {},
   "outputs": [],
   "source": []
  }
 ],
 "metadata": {
  "kernelspec": {
   "display_name": "Python 3 (ipykernel)",
   "language": "python",
   "name": "python3"
  },
  "language_info": {
   "codemirror_mode": {
    "name": "ipython",
    "version": 3
   },
   "file_extension": ".py",
   "mimetype": "text/x-python",
   "name": "python",
   "nbconvert_exporter": "python",
   "pygments_lexer": "ipython3",
   "version": "3.10.5"
  }
 },
 "nbformat": 4,
 "nbformat_minor": 5
}
